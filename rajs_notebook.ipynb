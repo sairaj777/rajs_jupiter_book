{
 "cells": [
  {
   "cell_type": "code",
   "execution_count": 14,
   "id": "06696be1-82ef-4d34-a892-d73908f9ca01",
   "metadata": {
    "tags": []
   },
   "outputs": [],
   "source": [
    "# Classes\n",
    "\n",
    "class Car:\n",
    "    car_dict = {}\n",
    "    def __init__(self,model,company,year):\n",
    "        self.model = model\n",
    "        self.company = company\n",
    "        self.year = year\n",
    "        Car.car_dict[self.model] = {'company':self.company,'year':self.year}"
   ]
  },
  {
   "cell_type": "code",
   "execution_count": 15,
   "id": "bd6edfa7-71c3-42f7-b40f-e7e49799ff79",
   "metadata": {
    "tags": []
   },
   "outputs": [],
   "source": [
    "# Methods\n",
    "\n",
    "import string\n",
    "\n",
    "week = [\"tuesday\", \"wednesday\", \"thursday\", \"friday\", \"saturday\", \"sunday\", \"monday\" ]\n",
    "\n",
    "def daycalculator(date):\n",
    "    remainder = date % 7\n",
    "    dates = range(7)\n",
    "    week_dictionary = dict(zip(dates, week))\n",
    "    return week_dictionary[remainder]\n",
    "\n",
    "def duplicateTestor(importedString): # function to test  duplicate letters in words\n",
    "    for words in importedString:\n",
    "        if len(words) > len(set(words)):\n",
    "            return True\n",
    "            break\n",
    "    else:\n",
    "        return False\n",
    "\n",
    "\n",
    "def shadowSentenceTest(sentence1,sentence2): # function to test shadow sentences\n",
    "    if (len(sentence1) == len(sentence2)):\n",
    "        for index, word in enumerate(sentence1):\n",
    "            if len(set(sentence1[index]).intersection(set(sentence2[index]))) > 1:\n",
    "                return False\n",
    "                break\n",
    "            else:\n",
    "                return True\n",
    "    else:\n",
    "        return False"
   ]
  },
  {
   "cell_type": "code",
   "execution_count": 4,
   "id": "e4e7079f-2143-40fb-84a6-d24190a7b140",
   "metadata": {
    "tags": []
   },
   "outputs": [
    {
     "name": "stdin",
     "output_type": "stream",
     "text": [
      "provide the ip address:  8.8.8.8\n"
     ]
    },
    {
     "name": "stdout",
     "output_type": "stream",
     "text": [
      "the host name is dns.google\n"
     ]
    }
   ],
   "source": [
    "# find dns from ip address\n",
    "import socket\n",
    "hostname = socket.gethostbyaddr(input(\"provide the ip address: \"))[0]\n",
    "print (f\"the host name is {hostname}\")"
   ]
  },
  {
   "cell_type": "code",
   "execution_count": 10,
   "id": "c7bfff3b-37d8-4fa3-a218-dcc8c1b8fa6a",
   "metadata": {
    "tags": []
   },
   "outputs": [
    {
     "name": "stdin",
     "output_type": "stream",
     "text": [
      "enter the string:  sairaj\n"
     ]
    },
    {
     "name": "stdout",
     "output_type": "stream",
     "text": [
      "2023-12-07 10:10:41.492503: True\n",
      "\n"
     ]
    }
   ],
   "source": [
    "# task  to find duplicate letters in words\n",
    "import datetime\n",
    "\n",
    "current_datetime = datetime.datetime.now()\n",
    "duplicateString =duplicateTestor( list(input(\"enter the string: \").split())) # importing the sentence to test duplicates\n",
    "\n",
    "#print (duplicateString)\n",
    "\n",
    "file = open(\"File_Duplicate_String\",'a')\n",
    "file.write(f\"{current_datetime}: {str(duplicateString)}\\n\")\n",
    "print (f\"{current_datetime}: {str(duplicateString)}\\n\")\n"
   ]
  },
  {
   "cell_type": "code",
   "execution_count": 11,
   "id": "1f34982b-2789-4a62-a575-8553ef5f39ed",
   "metadata": {
    "tags": []
   },
   "outputs": [
    {
     "name": "stdin",
     "output_type": "stream",
     "text": [
      "enter the 1st sentence:  sai rah\n",
      "enter the 2nd sentence:  raj rsd\n"
     ]
    },
    {
     "name": "stdout",
     "output_type": "stream",
     "text": [
      "the sentences are shadow sentence: True\n"
     ]
    }
   ],
   "source": [
    "# Shadow sentence task\n",
    "\n",
    "sentence1 = list(input(\"enter the 1st sentence: \").split())\n",
    "sentence2 = list(input(\"enter the 2nd sentence: \").split())\n",
    "shadowSentence = shadowSentenceTest(sentence1, sentence2)\n",
    "print(f\"the sentences are shadow sentence: {shadowSentence}\")"
   ]
  },
  {
   "cell_type": "code",
   "execution_count": 18,
   "id": "0a8e6cae-c3ab-48f4-927b-2f8790ee55a5",
   "metadata": {
    "tags": []
   },
   "outputs": [
    {
     "name": "stdin",
     "output_type": "stream",
     "text": [
      "Enter the date of the month (1 -30):  4\n"
     ]
    },
    {
     "name": "stdout",
     "output_type": "stream",
     "text": [
      "the day is saturday and its weekend !!! and you can drive:  lancer\n"
     ]
    }
   ],
   "source": [
    "# Car task\n",
    "# Sub Task:  Loop though days of a month and print Friyay when the day is Friday. From Wed to Thrusday you need to print 'Almost there 🙂'\n",
    "\n",
    "from random import choice\n",
    "\n",
    "lancer = Car(\"lancer\",\"mistibushi\",2016)\n",
    "jazz = Car(\"jazz\",\"honda\",2004)\n",
    "swift = Car(\"swift\",\"maruthi\",2011)\n",
    "\n",
    "if (__name__ == \"__main__\" ):\n",
    "    date = int(input (\"Enter the date of the month (1 -30): \")) #date variable\n",
    "    day = str(daycalculator(date))                       #calling the dayCalculator function form functions file\n",
    "    car_model = choice(list(Car.car_dict.keys()))\n",
    "    if (day.lower() == \"monday\"  or day.lower() == \"tuesday\"):\n",
    "        print (\"its the start of the week and you can drive: \", car_model)\n",
    "    elif (day.lower() == \"wednesday\" or day.lower() == \"thursday\"):\n",
    "        print (\"almost there ! and you can drive: \", car_model)\n",
    "    elif (day.lower() == \"friday\"):\n",
    "        print (\"its friday !! and you can drive: \", car_model)\n",
    "    else:\n",
    "        print (f\"the day is {day} and its weekend !!! and you can drive: \", car_model)"
   ]
  },
  {
   "cell_type": "code",
   "execution_count": 25,
   "id": "47280793-767e-4287-b3bb-7931ef796a8d",
   "metadata": {
    "tags": []
   },
   "outputs": [
    {
     "name": "stdout",
     "output_type": "stream",
     "text": [
      "[25, 1, 4, 9, 36]\n"
     ]
    }
   ],
   "source": [
    "a = [5,1,2,3,6]\n",
    "k = lambda a: a*a \n",
    "print (list(map(k,a)))"
   ]
  },
  {
   "cell_type": "code",
   "execution_count": null,
   "id": "5022a6d5-ebff-4fa8-b0e7-7693ac1961b9",
   "metadata": {},
   "outputs": [],
   "source": []
  }
 ],
 "metadata": {
  "kernelspec": {
   "display_name": "Python 3 (ipykernel)",
   "language": "python",
   "name": "python3"
  },
  "language_info": {
   "codemirror_mode": {
    "name": "ipython",
    "version": 3
   },
   "file_extension": ".py",
   "mimetype": "text/x-python",
   "name": "python",
   "nbconvert_exporter": "python",
   "pygments_lexer": "ipython3",
   "version": "3.11.5"
  }
 },
 "nbformat": 4,
 "nbformat_minor": 5
}
